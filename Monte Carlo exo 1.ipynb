{
 "cells": [
  {
   "cell_type": "code",
   "execution_count": 1,
   "metadata": {},
   "outputs": [],
   "source": [
    "import base\n",
    "import numpy as np\n",
    "import math\n",
    "import matplotlib.pyplot as plt"
   ]
  },
  {
   "cell_type": "code",
   "execution_count": 2,
   "metadata": {},
   "outputs": [],
   "source": [
    "pi = np.array([0.1, 0.4, 0.4, 0.1])"
   ]
  },
  {
   "cell_type": "code",
   "execution_count": 3,
   "metadata": {},
   "outputs": [],
   "source": [
    "def calculer_q(env, v, gamma):\n",
    "    return np.sum(env.p() * \n",
    "            (env.r() + gamma*v[np.newaxis, np.newaxis, :]), axis=2)"
   ]
  },
  {
   "cell_type": "code",
   "execution_count": 4,
   "metadata": {},
   "outputs": [],
   "source": [
    "def ipe(env, pi, gamma, epsilon):\n",
    "    ns = env.get_nb_states()\n",
    "    v = np.zeros((ns))\n",
    "    q = calculer_q(env, v, gamma)\n",
    "    nv = np.sum(pi * q, axis=1)\n",
    "    \n",
    "    delta = np.sum(np.abs(nv - v))\n",
    "    while delta > epsilon:\n",
    "        v = nv\n",
    "        q = calculer_q(env, v, gamma)\n",
    "        nv = np.sum(pi * q, axis=1)\n",
    "        delta = np.sum(np.abs(nv - v))\n",
    "        \n",
    "    return nv "
   ]
  },
  {
   "cell_type": "code",
   "execution_count": 5,
   "metadata": {},
   "outputs": [],
   "source": [
    "def monte_carlo_predict(env, pi, gamma, nbEpisode, epsilon):\n",
    "    na = env.get_nb_actions()\n",
    "    ns = env.get_nb_states()\n",
    "    q = np.zeros((env.get_nb_states()))\n",
    "    n = np.zeros((env.get_nb_states()))\n",
    "\n",
    "    #définition de la politique par défaut\n",
    "    if pi is None:\n",
    "        pi = np.ones((ns, na))/na\n",
    "\n",
    "    V2 = ipe(env, pi, gamma, epsilon)\n",
    "    V = np.zeros((ns))\n",
    "    error = []\n",
    "\n",
    "    for k in range(1, nbEpisode+1):\n",
    "        # Faire un episode\n",
    "        s = env.reset()\n",
    "        episode = []\n",
    "        while not env.is_final(s):\n",
    "            a = np.random.choice(na, p=pi) \n",
    "            ns, r, _, _ = env.step(a)\n",
    "            episode.append([s, a, ns, r])\n",
    "            s = ns\n",
    "            \n",
    "        # Mettre à jour Q\n",
    "        retour = 0\n",
    "        for s, a, ns, r in reversed(episode):\n",
    "            retour = r + gamma * retour\n",
    "            n[s] += 1\n",
    "            q[s] += retour\n",
    "            V[s] = q[s]/n[s]\n",
    "        \n",
    "        current_error = np.linalg.norm(V2-V)\n",
    "        error.append(current_error)\n",
    "        \n",
    "    #return q/n\n",
    "    return error"
   ]
  },
  {
   "cell_type": "code",
   "execution_count": 6,
   "metadata": {},
   "outputs": [
    {
     "ename": "NameError",
     "evalue": "name 'env' is not defined",
     "output_type": "error",
     "traceback": [
      "\u001b[1;31m---------------------------------------------------------------------------\u001b[0m",
      "\u001b[1;31mNameError\u001b[0m                                 Traceback (most recent call last)",
      "Cell \u001b[1;32mIn[6], line 1\u001b[0m\n\u001b[1;32m----> 1\u001b[0m error \u001b[39m=\u001b[39m monte_carlo_predict(env, pi, \u001b[39m0.9\u001b[39m, \u001b[39m100\u001b[39m, \u001b[39m0.01\u001b[39m)\n\u001b[0;32m      3\u001b[0m plt\u001b[39m.\u001b[39mtitle(\u001b[39m\"\u001b[39m\u001b[39mErreur entre V(ipe) et V à chaque épisode\u001b[39m\u001b[39m\"\u001b[39m)\n\u001b[0;32m      4\u001b[0m plt\u001b[39m.\u001b[39mplot(error, color\u001b[39m=\u001b[39m\u001b[39m\"\u001b[39m\u001b[39mred\u001b[39m\u001b[39m\"\u001b[39m)\n",
      "\u001b[1;31mNameError\u001b[0m: name 'env' is not defined"
     ]
    }
   ],
   "source": [
    "error = monte_carlo_predict(env, pi, 0.9, 100, 0.01)\n",
    "\n",
    "plt.title(\"Erreur entre V(ipe) et V à chaque épisode\")\n",
    "plt.plot(error, color=\"red\")\n",
    "\n",
    "plt.show()"
   ]
  }
 ],
 "metadata": {
  "kernelspec": {
   "display_name": "Python 3",
   "language": "python",
   "name": "python3"
  },
  "language_info": {
   "codemirror_mode": {
    "name": "ipython",
    "version": 3
   },
   "file_extension": ".py",
   "mimetype": "text/x-python",
   "name": "python",
   "nbconvert_exporter": "python",
   "pygments_lexer": "ipython3",
   "version": "3.10.9 (tags/v3.10.9:1dd9be6, Dec  6 2022, 20:01:21) [MSC v.1934 64 bit (AMD64)]"
  },
  "orig_nbformat": 4,
  "vscode": {
   "interpreter": {
    "hash": "12985b2a99ba7fa3548e5cd7c5c2fcd02ecd66fc098c39ca928336ab7f5b2566"
   }
  }
 },
 "nbformat": 4,
 "nbformat_minor": 2
}
